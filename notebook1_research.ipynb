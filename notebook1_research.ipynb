{
 "cells": [
  {
   "cell_type": "markdown",
   "metadata": {},
   "source": [
    "# Training Autonomous Vehicles using Augmented Random Search (ARS) in Carla"
   ]
  },
  {
   "cell_type": "markdown",
   "metadata": {},
   "source": [
    "## Outline\n",
    "[Project Abstract](#abstract)<br>\n",
    "The abstract of the project, summarizing the goals, research, methodology, and conclusion.\n",
    "\n",
    "[The Math Behind ARS](#ars_math)<br>\n",
    "This section explains the mechanics of the ARS learning process.\n",
    "\n",
    "[Testing Car Environment with ARS](#testing_environment)<br>\n",
    "This section involves testing a modified version of Sentdex's Carla 'CarEnv' environment in the [framework for ARS learning provided by Colin Skow](https://github.com/colinskow/move37/tree/master/ars), which has also been modified to make use of the environment.<br>\n",
    "\n",
    "[Parallel Training using Ray](notebook2_train_agent.ipynb)<br>\n",
    "This notebook makes use of a version of the [ARS framework made available by the authors of the 2018 ARS paper](https://github.com/modestyachts/ARS) that has been modified to make use of the modified Sentdex 'CarEnv' environment in a parallel fashion using a Ray cluster. This allows multiple workers to explore deltas simultaneously and pool the results of their rollouts at each update step, leading to faster training of the agent.\n",
    "\n",
    "[Analysis of Results and Conclusions](notebook3_results_analysis.ipynb)<br>\n",
    "This notebook reviews and analyzes the results obtained from the first round of training, and provides the conclusions of this study."
   ]
  },
  {
   "cell_type": "markdown",
   "metadata": {},
   "source": [
    "## Abstract\n",
    "[Carla](https://carla.org/) is an open source driving simulator with a Python API used for autonomous driving research. Built on Unreal Engine 4, it employs high-end graphics to provide a suitable representation of the real world conducive for reinforcement learning with camera data. This research sought to test the ability of the [Augmented Random Searching (ARS) algorithm](https://arxiv.org/pdf/1803.07055.pdf) to train a self-driving car policy on the data gathered from a single front-facing camera per car. ARS is an exciting new algorithm for reinforcement learning (RL) proposed in 2018 by Mania, Guy, and Recht, which has been shown to achieve competitive results on benchmark MuJoCo continuous control locomotion tasks compared to more complex model-free methods, while offering at least 15x more computational efficiency. This significant reduction in computational resource requirements makes it an attractive algorithm for small-scale autonomous vehicle research, and so it was chosen for this study. \n",
    "\n",
    "Code for usable car environment for this task was derived from a [Sentdex tutorial on using Carla for Deep Q-Learning](https://pythonprogramming.net/introduction-self-driving-autonomous-cars-carla-python/) and modified to fit the context of ARS learning. The modified environment was then tested by splicing it into [ARS code provided by Colin Skow](https://github.com/colinskow/move37/tree/master/ars) as a part of his course on RL. Once the environment was functional with ARS learning, the ability to train in parallel was achieved by modifying the [code provided by the authors of the ARS study](https://github.com/modestyachts/ARS) to make use of this car environment. This allowed testing of the efficacy of this efficient learning algorithm on training autonomous vehicles using camera data from Carla. To convert the raw RGB camera data into feature space, it was first passed through the pretrained VGG19 convolutional neural network using imagenet weights, without the top layer.\n",
    "\n",
    "A reward system was devised which penalized collisions, extreme steering control values, and sitting stationary, while rewarding traveling at speed especially when moving in straight lines. Much experimentation was done in creating this reward system, but it is likely that more adjustments need to be made in the future to facilitate the learning process.\n",
    "\n",
    "Even despite the simplicity of the ARS algorithm, the personal computer used for training was only able to handle training with 4 workers in parallel due to the high computational demands of the Carla simulator, and this led to the process of learning being slow. Testing a range of hyperparameter values for learning rate, number of deltas tested/used, and delta std would require multiple deployments of a multi-day training process, and it is understandable that optimal balance of these parameter values for this task has not been found by this study, which only represents the first attempt at training using this framework. Instructions for running the parallelized training process can be found in the '[notebook2_train_agent](notebook2_train_agent.ipynb)' notebook.\n",
    "\n",
    "An in-depth review and analysis of the results of the training can be found in the '[notebook3_results_analysis](notebook3_results_analysis.ipynb)' notebook in this repository, along with the conclusions of this study. In summary, the first 5-day round of training did not lead to a noticably improving policy for the agent by the end of the 1250 iteration training period. It is possible that the learning rate and delta std was set too high for this task, and further testing using different values is needed. It may also be necessary to control the variability of the circumstances that each delta is tested on by controlling the spawning position of a worker, so that more fair comparisons may be made between the rewards achieved by positive and negative addition of each delta to the current policy, reducing the element of luck that a worker might experience based on starting position. Further, the reward system likely needs adjustment, as it is possible that the penalty for collisions was too high, leading the agent to too highly prioritize avoiding the collisions which it needed to be experiencing in order to learn the edge cases they were associated with. Finally, it is possible that 1250 training episodes was simply not enough time for meaningful progress to be made with training the agent. As can be seen in the '[ars_practice](ars_practice.ipynb)' notebook, the BipedalWalker-v3  (a much simpler environment from the gym module which always starts workers with an identical initial state) required 600 training steps before the algorithm began to make noticeable improvements to the policy. In the context of Carla, with so many unique scenarios for workers to find themselves in, it is understandable that this number of training episodes could be expected to be far larger. Scaling this research up onto more powerful hardware would help to answer this question.\n",
    "\n",
    "Below is a graphic summarizing the results of the training period of this study, which was just over 5 days (121.43 hours). Learning rate and delta std decay was applied, so the changing values of these hyperparameters over time is shown.\n",
    "\n",
    "![Training Results](images/training_results.png)"
   ]
  },
  {
   "cell_type": "markdown",
   "metadata": {},
   "source": [
    "<a id='ars_math'></a>\n",
    "## The Math Behind ARS\n",
    "To understand what happens under the hood during the ARS learning process, let's take a look at the equation found in the 2018 paper, which I have annotated for clarity.<br>\n",
    "![ARS Formula](images/ars_formula_explained.png)<br>\n",
    "In words, a user-defined number of deltas (random noise arrays with the same shape as the weights) are generated for each update step, and each delta is applied on 2 separate episodes: one in which it is added to the weights (positive direction) and one in which it is subtracted from the weights (negative direction). The rewards produced from the positive and negative directions are stored with their corresponding delta. Then the deltas are organized in order of maximum rewards produced in either the positive or negative direction, and then a user-defined number of the top performing deltas (up to the total number of deltas) are used in the update step (# deltas used). Each of the used deltas is multiplied by the difference between the rewards of the positive direction and the rewards of the negative direction corresponding to that delta, standardized by dividing these rewards by the collective standard deviation of all positive and negative rewards recorded from the deltas used during this step, which allows us to disregard the actual numerical scale of the reward system at hand. This effectively scales each delta by the magnitude of impact it had on performance, and reverses the sign when the negative direction has higher rewards than the positive direction. The result of each of these multiplication steps is then averaged by summing them together and dividing by the number of deltas used. The result is multiplied by the learning rate, then added to the weights, completing the update step."
   ]
  },
  {
   "cell_type": "markdown",
   "metadata": {},
   "source": [
    "<a id='testing_environment'></a>\n",
    "## Testing Car Environment with ARS\n",
    "Now that we have an understanding of the ARS process, let's look at how we can fit [Sentdex's car environment for Carla](https://pythonprogramming.net/reinforcement-learning-self-driving-autonomous-cars-carla-python/) into the [basic ARS framework offered by Colin Skow](https://github.com/colinskow/move37/tree/master/ars)."
   ]
  },
  {
   "cell_type": "code",
   "execution_count": 1,
   "metadata": {},
   "outputs": [],
   "source": [
    "import datetime\n",
    "import glob\n",
    "import os\n",
    "import sys\n",
    "import random\n",
    "import time\n",
    "import numpy as np\n",
    "import cv2\n",
    "import math\n",
    "\n",
    "import tensorflow as tf\n",
    "import tensorflow.keras as keras\n",
    "from tensorflow.keras.layers import Dense, GlobalAveragePooling2D\n",
    "from tensorflow.keras.optimizers import Adam\n",
    "from tensorflow.keras.models import Model\n",
    "from tensorflow.keras.applications import VGG19\n",
    "\n",
    "# Change the directory to where your carla egg file is located to load carla python module\n",
    "# This should be in the folder you extracted from your Carla download\n",
    "try:\n",
    "    sys.path.append(glob.glob('C:\\ProgramData\\Carla\\PythonAPI\\carla\\dist/carla-*%d.%d-%s.egg' % (\n",
    "        sys.version_info.major,\n",
    "        sys.version_info.minor,\n",
    "        'win-amd64' if os.name == 'nt' else 'linux-x86_64'))[0])\n",
    "except IndexError:\n",
    "    pass\n",
    "import carla"
   ]
  },
  {
   "cell_type": "code",
   "execution_count": 2,
   "metadata": {},
   "outputs": [],
   "source": [
    "import matplotlib.pyplot as plt\n",
    "%matplotlib inline"
   ]
  },
  {
   "cell_type": "code",
   "execution_count": 3,
   "metadata": {},
   "outputs": [
    {
     "data": {
      "text/plain": [
       "[PhysicalDevice(name='/physical_device:CPU:0', device_type='CPU'),\n",
       " PhysicalDevice(name='/physical_device:GPU:0', device_type='GPU')]"
      ]
     },
     "execution_count": 3,
     "metadata": {},
     "output_type": "execute_result"
    }
   ],
   "source": [
    "tf.config.list_physical_devices()"
   ]
  },
  {
   "cell_type": "code",
   "execution_count": 4,
   "metadata": {},
   "outputs": [
    {
     "name": "stdout",
     "output_type": "stream",
     "text": [
      "Sat Aug 19 11:32:47 2023       \n",
      "+-----------------------------------------------------------------------------+\n",
      "| NVIDIA-SMI 511.09       Driver Version: 511.09       CUDA Version: 11.6     |\n",
      "|-------------------------------+----------------------+----------------------+\n",
      "| GPU  Name            TCC/WDDM | Bus-Id        Disp.A | Volatile Uncorr. ECC |\n",
      "| Fan  Temp  Perf  Pwr:Usage/Cap|         Memory-Usage | GPU-Util  Compute M. |\n",
      "|                               |                      |               MIG M. |\n",
      "|===============================+======================+======================|\n",
      "|   0  NVIDIA GeForce ... WDDM  | 00000000:01:00.0  On |                  N/A |\n",
      "| N/A   83C    P5    18W /  N/A |   1833MiB /  6144MiB |     16%      Default |\n",
      "|                               |                      |                  N/A |\n",
      "+-------------------------------+----------------------+----------------------+\n",
      "                                                                               \n",
      "+-----------------------------------------------------------------------------+\n",
      "| Processes:                                                                  |\n",
      "|  GPU   GI   CI        PID   Type   Process name                  GPU Memory |\n",
      "|        ID   ID                                                   Usage      |\n",
      "|=============================================================================|\n",
      "|    0   N/A  N/A       768    C+G   ...lPanel\\SystemSettings.exe    N/A      |\n",
      "|    0   N/A  N/A       836    C+G   ...2txyewy\\TextInputHost.exe    N/A      |\n",
      "|    0   N/A  N/A      1292    C+G                                   N/A      |\n",
      "|    0   N/A  N/A      1360    C+G   ...icrosoft VS Code\\Code.exe    N/A      |\n",
      "|    0   N/A  N/A      4168    C+G   ...e\\PhoneExperienceHost.exe    N/A      |\n",
      "|    0   N/A  N/A      5632    C+G   ...8wekyb3d8bbwe\\GameBar.exe    N/A      |\n",
      "|    0   N/A  N/A      9504    C+G   ...5n1h2txyewy\\SearchApp.exe    N/A      |\n",
      "|    0   N/A  N/A      9672    C+G   ...y\\ShellExperienceHost.exe    N/A      |\n",
      "|    0   N/A  N/A     11432    C+G   ...5n1h2txyewy\\SearchApp.exe    N/A      |\n",
      "|    0   N/A  N/A     13496    C+G   ...qxf38zg5c\\Skype\\Skype.exe    N/A      |\n",
      "|    0   N/A  N/A     13868    C+G   ...022.3.1\\bin\\pycharm64.exe    N/A      |\n",
      "|    0   N/A  N/A     13968    C+G   ...bbwe\\Microsoft.Photos.exe    N/A      |\n",
      "|    0   N/A  N/A     14708    C+G   ...Files\\NordVPN\\NordVPN.exe    N/A      |\n",
      "|    0   N/A  N/A     14752    C+G   ...oft\\OneDrive\\OneDrive.exe    N/A      |\n",
      "|    0   N/A  N/A     16044    C+G                                   N/A      |\n",
      "|    0   N/A  N/A     16272    C+G   ...ge\\Application\\msedge.exe    N/A      |\n",
      "|    0   N/A  N/A     16988    C+G   C:\\Windows\\explorer.exe         N/A      |\n",
      "|    0   N/A  N/A     17024    C+G   ...3d8bbwe\\CalculatorApp.exe    N/A      |\n",
      "|    0   N/A  N/A     17188    C+G   ...artMenuExperienceHost.exe    N/A      |\n",
      "|    0   N/A  N/A     18696    C+G   ...ack\\app-4.33.90\\slack.exe    N/A      |\n",
      "|    0   N/A  N/A     19632    C+G   ...5n1h2txyewy\\SearchApp.exe    N/A      |\n",
      "|    0   N/A  N/A     19836    C+G   ...icrosoft.Media.Player.exe    N/A      |\n",
      "+-----------------------------------------------------------------------------+\n"
     ]
    }
   ],
   "source": [
    "!nvidia-smi"
   ]
  },
  {
   "cell_type": "code",
   "execution_count": 5,
   "metadata": {},
   "outputs": [],
   "source": [
    "# If you have GPU-capable tensorflow, the config must be adjusted for the code in this notebook\n",
    "# to work properly, because of some nebulous error with loading the VGG19 CNN when using the GPU\n",
    "# Either way, run this cell to make your setup compatible with this process.\n",
    "from tensorflow.compat.v1 import ConfigProto\n",
    "from tensorflow.compat.v1 import InteractiveSession\n",
    "\n",
    "config = ConfigProto()\n",
    "config.gpu_options.allow_growth = True\n",
    "session = InteractiveSession(config=config)"
   ]
  },
  {
   "cell_type": "code",
   "execution_count": 6,
   "metadata": {},
   "outputs": [],
   "source": [
    "# Skow's Hyperparameter class\n",
    "class HP():\n",
    "    # Hyperparameters\n",
    "    def __init__(self,\n",
    "                 nb_steps=100,\n",
    "                 episode_length=2000,\n",
    "                 learning_rate=0.02,\n",
    "                 num_deltas=16,\n",
    "                 num_best_deltas=8,\n",
    "                 noise=0.03,\n",
    "                 seed=1,\n",
    "                 env_name='BipedalWalker-v3',\n",
    "                 record_every=50):\n",
    "\n",
    "        self.nb_steps = nb_steps\n",
    "        self.episode_length = episode_length\n",
    "        self.learning_rate = learning_rate\n",
    "        self.num_deltas = num_deltas\n",
    "        self.num_best_deltas = num_best_deltas\n",
    "        assert self.num_best_deltas <= self.num_deltas\n",
    "        self.noise = noise\n",
    "        self.seed = seed\n",
    "        self.env_name = env_name\n",
    "        self.record_every = record_every"
   ]
  },
  {
   "cell_type": "code",
   "execution_count": 7,
   "metadata": {},
   "outputs": [],
   "source": [
    "# Skow's Policy class\n",
    "class Policy():\n",
    "    def __init__(self, input_size, output_size, hp, theta=None):\n",
    "        self.input_size = input_size\n",
    "        self.output_size = output_size\n",
    "        if theta is not None:\n",
    "            self.theta = theta\n",
    "        else:\n",
    "            #self.theta = np.random.random((output_size, input_size))\n",
    "            self.theta = np.zeros((output_size, input_size))\n",
    "        self.hp = hp\n",
    "\n",
    "    def evaluate(self, input, delta = None, direction = None):\n",
    "        if direction is None:\n",
    "            return self.theta.dot(input)\n",
    "        elif direction == \"+\":\n",
    "            return (self.theta + self.hp.noise * delta).dot(input)\n",
    "        elif direction == \"-\":\n",
    "            return (self.theta - self.hp.noise * delta).dot(input)\n",
    "\n",
    "    def sample_deltas(self):\n",
    "        return [np.random.randn(*self.theta.shape) for _ in range(self.hp.num_deltas)]\n",
    "#This code below here is super important \n",
    "#This is how the weights are updated according to which configuration of weights led to the biggest reward\n",
    "    def update(self, rollouts, sigma_rewards):\n",
    "        # sigma_rewards is the standard deviation of the rewards\n",
    "        old_theta = self.theta.copy()\n",
    "        step = np.zeros(self.theta.shape)\n",
    "        for r_pos, r_neg, delta in rollouts:\n",
    "            step += (r_pos - r_neg) * delta\n",
    "        theta_update = self.hp.learning_rate / (self.hp.num_best_deltas * sigma_rewards) * step\n",
    "        self.theta += theta_update\n",
    "        if np.array_equal(old_theta, self.theta):\n",
    "            print(\"Theta did not change.\")"
   ]
  },
  {
   "cell_type": "code",
   "execution_count": 8,
   "metadata": {},
   "outputs": [],
   "source": [
    "def mkdir(base, name):\n",
    "    path = os.path.join(base, name)\n",
    "    if not os.path.exists(path):\n",
    "        os.makedirs(path)\n",
    "    return path"
   ]
  },
  {
   "cell_type": "code",
   "execution_count": 9,
   "metadata": {},
   "outputs": [],
   "source": [
    "# Sentdex's CarEnv class, modified to work in the context of ARS learning\n",
    "# This required giving it a continuous control scheme for use in a continuous\n",
    "# action space. The camera input resolution has been changed to 224x224 since\n",
    "# we will be running it through VGG19 to get features, and this is the image\n",
    "# resolution that VGG19 was originally trained on. I have set the number of\n",
    "# seconds per episode to 15.\n",
    "# The scoring system has been modified to try and facilitate the learning\n",
    "# process. Since cars will tend to learn to drive in circles in order to avoid\n",
    "# collisions, it was necessary to punish driving in circles, and reward driving\n",
    "# in straighter lines.\n",
    "class CarEnv:\n",
    "\n",
    "    def __init__(self, \n",
    "                 img_width=224, \n",
    "                 img_height=224, \n",
    "                 show_cam=False, \n",
    "                 control_type='continuous',\n",
    "                 car_model='mustang',\n",
    "                 seconds_per_episode=15\n",
    "                ):\n",
    "        self.img_width = img_width\n",
    "        self.img_height = img_height\n",
    "        self.client = carla.Client(\"localhost\", 2000)\n",
    "        self.client.set_timeout(5.0)\n",
    "        self.world = self.client.get_world()\n",
    "        self.blueprint_library = self.world.get_blueprint_library()\n",
    "        self.car = self.blueprint_library.filter(car_model)[0]\n",
    "        self.show_cam = show_cam\n",
    "        self.control_type = control_type\n",
    "        self.front_camera = None\n",
    "        self.actor_list = []\n",
    "        self.seconds_per_episode = seconds_per_episode\n",
    "        \n",
    "        if self.control_type == 'continuous':\n",
    "            self.action_space = np.array(['throttle', 'steer', 'brake'])\n",
    "\n",
    "    def reset(self):\n",
    "        self.collision_hist = []\n",
    "        self.steering_cache = []\n",
    "        \n",
    "        if len(self.actor_list) > 0:\n",
    "            for actor in self.actor_list:\n",
    "                actor.destroy()\n",
    "        self.actor_list = []\n",
    "        \n",
    "        try:\n",
    "            self.transform = random.choice(self.world.get_map().get_spawn_points())\n",
    "            self.vehicle = self.world.spawn_actor(self.car, self.transform)\n",
    "            self.actor_list.append(self.vehicle)\n",
    "        except:\n",
    "            self.reset()\n",
    "\n",
    "        # Attach RGB Camera\n",
    "        self.rgb_cam = self.blueprint_library.find('sensor.camera.rgb')\n",
    "        self.rgb_cam.set_attribute(\"image_size_x\", f\"{self.img_width}\")\n",
    "        self.rgb_cam.set_attribute(\"image_size_y\", f\"{self.img_height}\")\n",
    "        self.rgb_cam.set_attribute(\"fov\", f\"110\")\n",
    "        \n",
    "        # This establishes location on the vehicle that the sensor attaches to, we are\n",
    "        # aiming for the hood in this case.\n",
    "        transform = carla.Transform(carla.Location(x=2.5, z=0.7))\n",
    "        self.sensor = self.world.spawn_actor(self.rgb_cam, transform, attach_to=self.vehicle)\n",
    "        self.actor_list.append(self.sensor)\n",
    "        self.sensor.listen(lambda data: self.process_img(data))\n",
    "\n",
    "        self.vehicle.apply_control(carla.VehicleControl(throttle=0.0, brake=0.0))\n",
    "        time.sleep(4)\n",
    "\n",
    "        # Spawn and attach a collision sensor to the vehicle\n",
    "        colsensor = self.blueprint_library.find(\"sensor.other.collision\")\n",
    "        self.colsensor = self.world.spawn_actor(colsensor, transform, attach_to=self.vehicle)\n",
    "        self.actor_list.append(self.colsensor)\n",
    "        self.colsensor.listen(lambda event: self.collision_data(event))\n",
    "\n",
    "        # This loop will wait until the camera is functioning before continuing\n",
    "        while self.front_camera is None:\n",
    "            time.sleep(0.01)\n",
    "\n",
    "        self.episode_start = time.time()\n",
    "        self.vehicle.apply_control(carla.VehicleControl(throttle=0.0, brake=0.0))\n",
    "\n",
    "        return self.front_camera\n",
    "\n",
    "    def collision_data(self, event):\n",
    "        self.collision_hist.append(event)\n",
    "\n",
    "    def process_img(self, image):\n",
    "        i = np.array(image.raw_data)\n",
    "        i2 = i.reshape((self.img_height, self.img_width, 4))\n",
    "        i3 = i2[:, :, :3]\n",
    "        if self.show_cam:\n",
    "            cv2.imshow(\"\", i3)\n",
    "            cv2.waitKey(1)\n",
    "        self.front_camera = i3\n",
    "\n",
    "    def step(self, action, step_num):\n",
    "        # Continuous action space for use with ARS\n",
    "        if self.control_type == 'continuous':\n",
    "            self.vehicle.apply_control(carla.VehicleControl(throttle=np.clip(action[0], 0.0, 1.0), \n",
    "                                                            steer=np.clip(action[1], -1.0, 1.0), \n",
    "                                                            brake=np.clip(action[2], 0.0, 1.0)))\n",
    "        # Preserved Sentdex's discrete action space for DQN learning. Not used for ARS\n",
    "        elif self.control_type == 'action':\n",
    "            if action == 0:\n",
    "                self.vehicle.apply_control(carla.VehicleControl(throttle=1.0, \n",
    "                                                                steer=-1*self.STEER_AMT))\n",
    "            elif action == 1:\n",
    "                self.vehicle.apply_control(carla.VehicleControl(throttle=1.0, steer= 0))\n",
    "            elif action == 2:\n",
    "                self.vehicle.apply_control(carla.VehicleControl(throttle=1.0, \n",
    "                                                                steer=1*self.STEER_AMT))\n",
    "        \n",
    "        # Append current steering control to cache to punish high values. Cleared with reset\n",
    "        # at start of episode.\n",
    "        self.steering_cache.append(action[1])\n",
    "        v = self.vehicle.get_velocity()\n",
    "        kmh = int(3.6 * math.sqrt(v.x**2 + v.y**2 + v.z**2))\n",
    "\n",
    "        # Reward System:\n",
    "        if len(self.collision_hist) != 0:\n",
    "            # Check to see if on first step (for rough spawns by Carla)\n",
    "            # Disregards collisions registered on first step of episode\n",
    "            if step_num == 1:\n",
    "                self.collision_hist = []\n",
    "                done = False\n",
    "                reward = 0\n",
    "            else:\n",
    "                done = True\n",
    "                print('Collision!')\n",
    "                reward = -200\n",
    "        elif kmh < 60 & kmh > 0.2:\n",
    "            done = False\n",
    "            reward = 1 #-1\n",
    "            # Reward lighter steering when moving\n",
    "            if np.abs(action[1]) < 0.3:\n",
    "                reward += 9\n",
    "            elif np.abs(action[1]) > 0.5 and np.abs(action[1]) < 0.9:\n",
    "                reward -= 1\n",
    "            elif np.abs(action[1]) >= 0.9:\n",
    "                reward -= 6\n",
    "        elif kmh <=0.2:\n",
    "            done = False\n",
    "            reward = -10\n",
    "        else:\n",
    "            done = False\n",
    "            reward = 20 #2\n",
    "            # Reward lighter steering when moving\n",
    "            if np.abs(action[1]) < 0.3:\n",
    "                reward += 20\n",
    "            # Reduce score for heavy steering\n",
    "            if np.abs(action[1]) > 0.5 and np.abs(action[1]) < 0.9:\n",
    "                reward -= 10\n",
    "            elif np.abs(action[1]) >= 0.9:\n",
    "                reward -= 20\n",
    "\n",
    "        # Penalize consistent and heavily directional steering\n",
    "        reward -= (np.abs(np.mean(self.steering_cache)) + np.abs(action[1])) * 10 / 2\n",
    "\n",
    "        # Terminate episode after set number of seconds\n",
    "        if self.episode_start + self.seconds_per_episode < time.time():\n",
    "            done = True\n",
    "\n",
    "        return self.front_camera, reward, done, None"
   ]
  },
  {
   "cell_type": "code",
   "execution_count": 10,
   "metadata": {},
   "outputs": [],
   "source": [
    "# Generate a test car\n",
    "test_car = CarEnv()"
   ]
  },
  {
   "cell_type": "code",
   "execution_count": 11,
   "metadata": {},
   "outputs": [],
   "source": [
    "# Generate images for testing VGG19 predictions (kept small for example)\n",
    "train_images = np.array([test_car.reset().reshape(224, 224, 3) for i in range(1)])"
   ]
  },
  {
   "cell_type": "code",
   "execution_count": 12,
   "metadata": {},
   "outputs": [
    {
     "data": {
      "text/plain": [
       "(1, 224, 224, 3)"
      ]
     },
     "execution_count": 12,
     "metadata": {},
     "output_type": "execute_result"
    }
   ],
   "source": [
    "train_images.shape"
   ]
  },
  {
   "cell_type": "code",
   "execution_count": 16,
   "metadata": {},
   "outputs": [
    {
     "data": {
      "text/plain": [
       "(1, 150528)"
      ]
     },
     "execution_count": 16,
     "metadata": {},
     "output_type": "execute_result"
    }
   ],
   "source": [
    "# An experiment with flattening shapes\n",
    "train_imgs2 = train_images[..., ::-1].reshape(train_images.shape[0], -1)\n",
    "train_imgs2.shape"
   ]
  },
  {
   "cell_type": "code",
   "execution_count": 17,
   "metadata": {
    "scrolled": true
   },
   "outputs": [
    {
     "data": {
      "image/png": "[encoded data removed]",
      "text/plain": [
       "<Figure size 432x288 with 1 Axes>"
      ]
     },
     "metadata": {},
     "output_type": "display_data"
    }
   ],
   "source": [
    "# Let's have a look at what our car sees\n",
    "plt.imshow(train_imgs2[0].reshape(224, 224, 3)/255.)\n",
    "plt.xticks(())\n",
    "plt.yticks(());"
   ]
  },
  {
   "cell_type": "code",
   "execution_count": 18,
   "metadata": {},
   "outputs": [],
   "source": [
    "# Clean up actors in test_car and clear object from memory\n",
    "for actor in test_car.actor_list:\n",
    "    actor.destroy()\n",
    "del(test_car)"
   ]
  },
  {
   "cell_type": "code",
   "execution_count": 19,
   "metadata": {},
   "outputs": [
    {
     "data": {
      "text/plain": [
       "(None, 224, 224, 3)"
      ]
     },
     "execution_count": 19,
     "metadata": {},
     "output_type": "execute_result"
    }
   ],
   "source": [
    "# We can now pass this image through the VGG19 CNN and observe what the output looks like\n",
    "# Let's first get an idea of what the model input looks like\n",
    "base_model = VGG19(weights='imagenet',\n",
    "                   include_top=False,\n",
    "                   input_shape=(224,\n",
    "                                224,\n",
    "                                3\n",
    "                               )\n",
    "                   )\n",
    "base_model.input_shape"
   ]
  },
  {
   "cell_type": "code",
   "execution_count": 20,
   "metadata": {},
   "outputs": [
    {
     "data": {
      "text/plain": [
       "(1, 7, 7, 512)"
      ]
     },
     "execution_count": 20,
     "metadata": {},
     "output_type": "execute_result"
    }
   ],
   "source": [
    "# Testing to determine output shape of VGG19\n",
    "prediction = base_model.predict(train_images[0].reshape(1, 224, 224, 3) / 255.)\n",
    "prediction.shape"
   ]
  },
  {
   "cell_type": "code",
   "execution_count": 21,
   "metadata": {},
   "outputs": [
    {
     "data": {
      "image/png": "[encoded data removed]",
      "text/plain": [
       "<Figure size 720x720 with 4 Axes>"
      ]
     },
     "metadata": {
      "needs_background": "light"
     },
     "output_type": "display_data"
    }
   ],
   "source": [
    "# We can see that the CNN has produced 512 7x7 convolutions. Let's look at some\n",
    "fig, axes = plt.subplots(2, 2, figsize=(10, 10))\n",
    "for i in range(4):\n",
    "    col = i % 2\n",
    "    row = i // 2\n",
    "    axes[row, col].imshow(prediction[0][:, :, i])"
   ]
  },
  {
   "cell_type": "markdown",
   "metadata": {},
   "source": [
    "While not very meaningful to us humans, these 7x7 images represent image features like edges to the computer, and may help to generalize the input we give to the ARS perceptron by relaying its content, rather than just the RGB input which can vary a lot in lighting and color for similar driving situations."
   ]
  },
  {
   "cell_type": "code",
   "execution_count": 22,
   "metadata": {},
   "outputs": [
    {
     "data": {
      "text/plain": [
       "(25088,)"
      ]
     },
     "execution_count": 22,
     "metadata": {},
     "output_type": "execute_result"
    }
   ],
   "source": [
    "# We will need to flatten this output to make use of the ARS perceptron, let's see what this looks like.\n",
    "prediction.flatten().shape"
   ]
  },
  {
   "cell_type": "markdown",
   "metadata": {},
   "source": [
    "For ARS, inputs to the perceptron must be normalized. Usually, this is done by taking rolling statistics of the inputs, and using them to perform mean/std filtering to normalize future inputs. This allows the algorithm to build these distributions from scratch without needing prior information about them. For this context, the outputs of the CNN are going to be on the same scale, and just as RGB camera data can be normalized by dividing the pixel values by 255, we can similarly normalize the outputs of this CNN by finding out what scale they are on. We can do this by creating a histogram of the values within the output."
   ]
  },
  {
   "cell_type": "code",
   "execution_count": 23,
   "metadata": {},
   "outputs": [
    {
     "name": "stdout",
     "output_type": "stream",
     "text": [
      "Maximum output value: 9.99218\n",
      "Minimum output value: 0.0\n"
     ]
    },
    {
     "data": {
      "image/png": "[encoded data removed]",
      "text/plain": [
       "<Figure size 792x504 with 1 Axes>"
      ]
     },
     "metadata": {},
     "output_type": "display_data"
    }
   ],
   "source": [
    "print('Maximum output value:', np.max(prediction))\n",
    "print('Minimum output value:', np.min(prediction))\n",
    "\n",
    "plt.style.use('ggplot')\n",
    "plt.figure(figsize=(11,7))\n",
    "plt.title('Distribution of CNN output values')\n",
    "plt.xlabel('Output Value')\n",
    "plt.ylabel('Density')\n",
    "plt.hist(prediction.flatten());"
   ]
  },
  {
   "cell_type": "markdown",
   "metadata": {},
   "source": [
    "We can see that these values are occurring on a scale between 0 and 10. This makes normalization easy, since all we need to do is divide all of these values by 10, just as we would divide RGB camera data by 255."
   ]
  },
  {
   "cell_type": "code",
   "execution_count": 24,
   "metadata": {},
   "outputs": [],
   "source": [
    "# Skow's ARSAgent class, heavily modified to make use of the CarEnv\n",
    "# initial_train option is experimental, uses train_imgs to train\n",
    "# some initial weights for the ARS process to start with.\n",
    "class ARSAgent():\n",
    "    def __init__(self,\n",
    "                 hp=None,\n",
    "                 env=None,\n",
    "                 base_model=True,\n",
    "                 policy=None,\n",
    "                 weights_dir='ars_weights',\n",
    "                 initial_train=False\n",
    "                ):\n",
    "\n",
    "        self.hp = hp or HP()\n",
    "        np.random.seed(self.hp.seed)\n",
    "        self.env = env or CarEnv(control_type='continuous')\n",
    "        self.output_size = self.env.action_space.shape[0]\n",
    "        self.record_video = False\n",
    "        self.history = {'step': [],\n",
    "                        'score': [],\n",
    "                        'theta': []}\n",
    "        self.generate_theta = False\n",
    "        self.historical_steps = 0\n",
    "        \n",
    "        if base_model is None:\n",
    "            self.input_size = self.env.front_camera.shape\n",
    "        else:\n",
    "            base_model = VGG19(weights='imagenet', \n",
    "                               include_top=False, \n",
    "                               input_shape=(self.env.img_height, self.env.img_width,3))\n",
    "            input_size = 1\n",
    "            for dim in base_model.output_shape:\n",
    "                if dim is not None:\n",
    "                    input_size *= dim\n",
    "            self.input_size = input_size\n",
    "            \n",
    "        if policy is None and initial_train == True:\n",
    "            self.generate_theta = True\n",
    "        self.base_model = base_model\n",
    "        self.policy = policy or Policy(self.input_size, self.output_size, self.hp)\n",
    "        self.weights_dir = mkdir('', weights_dir)\n",
    "\n",
    "    # Explore the policy on one specific direction and over one episode\n",
    "    def explore(self, direction=None, delta=None):\n",
    "        state = self.env.reset()\n",
    "        done = False\n",
    "        sum_rewards = 0.0\n",
    "        steps = 0\n",
    "        while not done:\n",
    "            # Get data from front camera and divide by 255 to normalize\n",
    "            state = self.env.front_camera.reshape(1, 224, 224, 3) / 255.\n",
    "            steps += 1\n",
    "            if self.base_model:\n",
    "                # Use base model to make prediction, flatten and divide by 10 to normalize\n",
    "                state = self.base_model.predict(state).flatten() / 10.\n",
    "            else:\n",
    "                state = state.flatten()\n",
    "            action = self.policy.evaluate(state, delta, direction)\n",
    "            state, reward, done, _ = self.env.step(action, steps)\n",
    "            #reward = max(min(reward, 1), -1)\n",
    "            sum_rewards += reward\n",
    "        print('Worker saw {} steps'.format(steps))\n",
    "        # Average the rewards per step to account for variable FPS seen by workers\n",
    "        print('Sum of episode rewards:', sum_rewards)\n",
    "        adjusted_reward = sum_rewards / steps\n",
    "        print('Adjusted Reward for episode:', adjusted_reward)\n",
    "        return adjusted_reward\n",
    "\n",
    "    def train(self):\n",
    "        # Experimental. Used to train an initial set of weights for ARS to modify.\n",
    "        if self.generate_theta:\n",
    "            print('Training initial weights...')\n",
    "            pred_model = keras.models.Sequential()\n",
    "            base_model = VGG19(weights='imagenet', \n",
    "                               include_top=False, \n",
    "                               input_shape=(224, 224,3))\n",
    "            for layer in base_model.layers:\n",
    "                layer.trainable = False\n",
    "            pred_model.add(base_model)\n",
    "            pred_model.add(keras.layers.Flatten())\n",
    "            pred_model.add(Dense(3, input_dim=base_model.output_shape, activation='linear'))\n",
    "            pred_model.compile(optimizer='adam', loss='mse', metrics=['accuracy'])\n",
    "            X = train_imgs.reshape(50, 224, 224, 3)/255.\n",
    "            y = np.array([1., 0., 0.])\n",
    "            y = np.tile(y, (50, 1))\n",
    "            pred_model.fit(X, y, epochs=5, workers=2)\n",
    "            self.policy.theta = pred_model.get_weights()[-2].T\n",
    "        \n",
    "        for step in range(self.hp.nb_steps):\n",
    "            self.historical_steps += 1\n",
    "            print('Performing step {}. ({}/{})'.format(self.historical_steps,\n",
    "                                                       step + 1,\n",
    "                                                       self.hp.nb_steps\n",
    "                                                      ))\n",
    "            start = time.time()\n",
    "            # Only record video during evaluation, every n steps\n",
    "            if step % self.hp.record_every == 0:\n",
    "                self.env.show_cam = True\n",
    "            # initialize the random noise deltas and the positive/negative rewards\n",
    "            deltas = self.policy.sample_deltas()\n",
    "            positive_rewards = [0] * self.hp.num_deltas\n",
    "            negative_rewards = [0] * self.hp.num_deltas\n",
    "\n",
    "            # play an episode each with positive deltas and negative deltas, collect rewards\n",
    "            for k in range(self.hp.num_deltas):\n",
    "                positive_rewards[k] = self.explore(direction=\"+\", delta=deltas[k])\n",
    "                negative_rewards[k] = self.explore(direction=\"-\", delta=deltas[k])\n",
    "                \n",
    "            # Compute the standard deviation of all rewards\n",
    "            sigma_rewards = np.array(positive_rewards + negative_rewards).std()\n",
    "\n",
    "            # Sort the rollouts by the max(r_pos, r_neg) and select the deltas with best rewards\n",
    "            scores = {k:max(r_pos, r_neg) for k,(r_pos,r_neg) in enumerate(zip(positive_rewards, negative_rewards))}\n",
    "            order = sorted(scores.keys(), key = lambda x:scores[x], reverse = True)[:self.hp.num_best_deltas]\n",
    "            rollouts = [(positive_rewards[k], negative_rewards[k], deltas[k]) for k in order]\n",
    "\n",
    "            # Update the policy\n",
    "            self.policy.update(rollouts, sigma_rewards)\n",
    "\n",
    "            if step % self.hp.record_every == 0:\n",
    "                # Play an episode with the new weights and print the score\n",
    "                reward_evaluation = self.run_episode()\n",
    "                print('Step:', step + 1, 'Reward:', reward_evaluation)\n",
    "                self.history['step'].append(self.historical_steps)\n",
    "                self.history['score'].append(reward_evaluation)\n",
    "                self.history['theta'].append(self.policy.theta.copy())\n",
    "                #self.save()\n",
    "                \n",
    "            end = time.time()\n",
    "            print('Time to complete update step:', end - start)\n",
    "            self.env.show_cam = False\n",
    "        \n",
    "        self.save()\n",
    "\n",
    "    def save(self):\n",
    "        save_file = mkdir(self.weights_dir, str(datetime.date.today()))\n",
    "        np.savetxt(save_file+'/recent_weights.csv'.format(self.historical_steps), \n",
    "                   self.policy.theta,\n",
    "                   delimiter=','\n",
    "                  )  \n",
    "            \n",
    "    def run_episode(self):\n",
    "        return self.explore()\n",
    "            \n",
    "    def clean_up(self):\n",
    "        for actor in self.env.actor_list:\n",
    "            actor.destroy()"
   ]
  },
  {
   "cell_type": "code",
   "execution_count": 25,
   "metadata": {},
   "outputs": [],
   "source": [
    "# Establish hyperparameters to pass to agent\n",
    "hp_test = HP(nb_steps=10, \n",
    "             noise=0.05, \n",
    "             learning_rate=0.02, \n",
    "             num_deltas=16, \n",
    "             num_best_deltas=8,\n",
    "             record_every=1\n",
    "            )"
   ]
  },
  {
   "cell_type": "code",
   "execution_count": 26,
   "metadata": {},
   "outputs": [],
   "source": [
    "# Instantiate the agent using these hyperparameters\n",
    "ars_agent = ARSAgent(hp=hp_test)"
   ]
  },
  {
   "cell_type": "code",
   "execution_count": 27,
   "metadata": {},
   "outputs": [],
   "source": [
    "# Load in previously trained weights if you have some\n",
    "#weights = np.genfromtxt('ars_weights/2020-12-21/recent_weights.csv', delimiter=',')\n",
    "#ars_agent.policy.theta = weights"
   ]
  },
  {
   "cell_type": "code",
   "execution_count": 28,
   "metadata": {
    "scrolled": true
   },
   "outputs": [
    {
     "name": "stdout",
     "output_type": "stream",
     "text": [
      "Performing step 1. (1/10)\n"
     ]
    },
    {
     "name": "stdout",
     "output_type": "stream",
     "text": [
      "Collision!\n",
      "Worker saw 87 steps\n",
      "Sum of episode rewards: 178.19068223474733\n",
      "Adjusted Reward for episode: 2.048168761318935\n",
      "Worker saw 113 steps\n",
      "Sum of episode rewards: -1783.318041079285\n",
      "Adjusted Reward for episode: -15.781575584772433\n",
      "Worker saw 116 steps\n",
      "Sum of episode rewards: -1334.701122012245\n",
      "Adjusted Reward for episode: -11.506044155277973\n",
      "Collision!\n",
      "Worker saw 59 steps\n",
      "Sum of episode rewards: 918.9166323928043\n",
      "Adjusted Reward for episode: 15.574858176149226\n",
      "Worker saw 112 steps\n",
      "Sum of episode rewards: -1259.92121064013\n",
      "Adjusted Reward for episode: -11.24929652357259\n",
      "Worker saw 114 steps\n",
      "Sum of episode rewards: -1579.342465086471\n",
      "Adjusted Reward for episode: -13.853881272688342\n"
     ]
    }
   ],
   "source": [
    "# Train the agent\n",
    "ars_agent.train()"
   ]
  },
  {
   "cell_type": "markdown",
   "metadata": {},
   "source": [
    "We can see from the worker's reports of how many frames they saw that the FPS experienced by a worker is variable, which is why we computed the average reward per frame rather than the sum of rewards for each episode. We can also see that the amount of time it takes to complete each update step is rather large,at ~10.5 minutes. This would make a 1000 iteration training session take 175 hours, which is not feasible, and this is only with 16 deltas. This means we will need to have training done in parallel."
   ]
  },
  {
   "cell_type": "code",
   "execution_count": 26,
   "metadata": {},
   "outputs": [
    {
     "data": {
      "image/png": "[encoded data removed]",
      "text/plain": [
       "<Figure size 792x504 with 1 Axes>"
      ]
     },
     "metadata": {},
     "output_type": "display_data"
    }
   ],
   "source": [
    "# Plotting the results of our brief training session.\n",
    "plt.figure(figsize=(11, 7))\n",
    "plt.plot(ars_agent.history['step'], ars_agent.history['score'])\n",
    "plt.title('Agent Score over Training Steps')\n",
    "plt.xlabel('Training Step')\n",
    "plt.ylabel('Score');"
   ]
  },
  {
   "cell_type": "code",
   "execution_count": 27,
   "metadata": {
    "scrolled": true
   },
   "outputs": [
    {
     "name": "stdout",
     "output_type": "stream",
     "text": [
      "different\n",
      "different\n",
      "different\n",
      "different\n",
      "different\n",
      "different\n",
      "different\n",
      "different\n",
      "different\n"
     ]
    }
   ],
   "source": [
    "# A quick sanity check to make sure that our theta was changing each time\n",
    "for i, theta in enumerate(ars_agent.history['theta']):\n",
    "    if i + 1 == len(ars_agent.history['theta']):\n",
    "        break\n",
    "    if np.array_equal(theta, ars_agent.history['theta'][i+1]):\n",
    "        print('same')\n",
    "    else:\n",
    "        print('different')"
   ]
  },
  {
   "cell_type": "code",
   "execution_count": 28,
   "metadata": {},
   "outputs": [],
   "source": [
    "# Save weights for later use\n",
    "ars_agent.save()"
   ]
  },
  {
   "cell_type": "code",
   "execution_count": 14,
   "metadata": {},
   "outputs": [],
   "source": [
    "# Clean up actors and clear agent from memory\n",
    "ars_agent.clean_up()\n",
    "del(ars_agent)"
   ]
  },
  {
   "cell_type": "markdown",
   "metadata": {},
   "source": [
    "We can see that we have a functioning ARS Agent using our CarEnv environment, but training with a single car like this would take forever. We need to look into training cars in parallel. Fortunately, the authors of the 2018 paper have provided source code to run ARS training in parallel using Ray.io. As was necessary with the Skow code, this code needed to be heavily modified in order to work with the CarEnv. I have made extensive adjustments to their code for this study. My version of the code can be found in the ARS_Carla folder."
   ]
  },
  {
   "cell_type": "markdown",
   "metadata": {},
   "source": [
    "### Continue to next notebook\n",
    "Click [here](notebook2_train_agent.ipynb) to proceed to the next notebook, where we train our agent using workers operating in parallel with the help of the Ray module."
   ]
  },
  {
   "cell_type": "code",
   "execution_count": null,
   "metadata": {},
   "outputs": [],
   "source": []
  },
  {
   "cell_type": "code",
   "execution_count": null,
   "metadata": {},
   "outputs": [],
   "source": []
  },
  {
   "cell_type": "code",
   "execution_count": null,
   "metadata": {},
   "outputs": [],
   "source": []
  },
  {
   "cell_type": "code",
   "execution_count": null,
   "metadata": {},
   "outputs": [],
   "source": []
  },
  {
   "cell_type": "code",
   "execution_count": null,
   "metadata": {},
   "outputs": [],
   "source": []
  },
  {
   "cell_type": "code",
   "execution_count": null,
   "metadata": {},
   "outputs": [],
   "source": []
  },
  {
   "cell_type": "markdown",
   "metadata": {},
   "source": [
    "## Appendix\n",
    "This section contains dead code no longer used in this notebook, but stored down here for reference if needed. An attempt was made at using ipyparallel, which was not successful because it was unable to pickle the context objects, but luckily the Ray solution worked better."
   ]
  },
  {
   "cell_type": "code",
   "execution_count": 3,
   "metadata": {},
   "outputs": [],
   "source": [
    "# Skow's class to normalize inputs with rolling statistics\n",
    "# Not used with the CarEnv since the outputs of the VGG19\n",
    "# were all on the same scale, but it might be worth comparing\n",
    "# using it later on.\n",
    "class Normalizer():\n",
    "    # Normalizes the inputs\n",
    "    def __init__(self, nb_inputs):\n",
    "        self.n = np.zeros(nb_inputs)\n",
    "        self.mean = np.zeros(nb_inputs)\n",
    "        self.mean_diff = np.zeros(nb_inputs)\n",
    "        self.var = np.zeros(nb_inputs)\n",
    "\n",
    "    def observe(self, x):\n",
    "        self.n += 1.0\n",
    "        last_mean = self.mean.copy()\n",
    "        self.mean += (x - self.mean) / self.n\n",
    "        self.mean_diff += (x - last_mean) * (x - self.mean)\n",
    "        self.var = (self.mean_diff / self.n).clip(min = 1e-2)\n",
    "\n",
    "    def normalize(self, inputs):\n",
    "        obs_mean = self.mean\n",
    "        obs_std = np.sqrt(self.var)\n",
    "        return (inputs - obs_mean) / obs_std"
   ]
  },
  {
   "cell_type": "code",
   "execution_count": 4,
   "metadata": {},
   "outputs": [],
   "source": [
    "# Original unmodified Skow Trainer class for reference\n",
    "class ARSTrainer():\n",
    "    def __init__(self,\n",
    "                 hp=None,\n",
    "                 input_size=None,\n",
    "                 output_size=None,\n",
    "                 normalizer=None,\n",
    "                 policy=None,\n",
    "                 monitor_dir=None):\n",
    "\n",
    "        self.hp = hp or HP()\n",
    "        np.random.seed(self.hp.seed)\n",
    "        self.env = gym.make(self.hp.env_name)\n",
    "        if monitor_dir is not None:\n",
    "            should_record = lambda i: self.record_video\n",
    "            self.env = wrappers.Monitor(self.env, monitor_dir, video_callable=should_record, force=True)\n",
    "        self.hp.episode_length = self.hp.episode_length\n",
    "        self.input_size = input_size or self.env.observation_space.shape[0]\n",
    "        self.output_size = output_size or self.env.action_space.shape[0]\n",
    "        self.normalizer = normalizer or Normalizer(self.input_size)\n",
    "        self.policy = policy or Policy(self.input_size, self.output_size, self.hp)\n",
    "        self.record_video = False\n",
    "\n",
    "    # Explore the policy on one specific direction and over one episode\n",
    "    def explore(self, direction=None, delta=None):\n",
    "        state = self.env.reset()\n",
    "        done = False\n",
    "        num_plays = 0.0\n",
    "        sum_rewards = 0.0\n",
    "        while not done and num_plays < self.hp.episode_length:\n",
    "            self.normalizer.observe(state)\n",
    "            state = self.normalizer.normalize(state)\n",
    "            action = self.policy.evaluate(state, delta, direction)\n",
    "            state, reward, done, _ = self.env.step(action)\n",
    "            reward = max(min(reward, 1), -1)\n",
    "            sum_rewards += reward\n",
    "            num_plays += 1\n",
    "        return sum_rewards\n",
    "\n",
    "    def train(self):\n",
    "        for step in range(self.hp.nb_steps):\n",
    "            # initialize the random noise deltas and the positive/negative rewards\n",
    "            deltas = self.policy.sample_deltas()\n",
    "            positive_rewards = [0] * self.hp.num_deltas\n",
    "            negative_rewards = [0] * self.hp.num_deltas\n",
    "\n",
    "            # play an episode each with positive deltas and negative deltas, collect rewards\n",
    "            for k in range(self.hp.num_deltas):\n",
    "                positive_rewards[k] = self.explore(direction=\"+\", delta=deltas[k])\n",
    "                negative_rewards[k] = self.explore(direction=\"-\", delta=deltas[k])\n",
    "                \n",
    "            # Compute the standard deviation of all rewards\n",
    "            sigma_rewards = np.array(positive_rewards + negative_rewards).std()\n",
    "\n",
    "            # Sort the rollouts by the max(r_pos, r_neg) and select the deltas with best rewards\n",
    "            scores = {k:max(r_pos, r_neg) for k,(r_pos,r_neg) in enumerate(zip(positive_rewards, negative_rewards))}\n",
    "            order = sorted(scores.keys(), key = lambda x:scores[x], reverse = True)[:self.hp.num_best_deltas]\n",
    "            rollouts = [(positive_rewards[k], negative_rewards[k], deltas[k]) for k in order]\n",
    "\n",
    "            # Update the policy\n",
    "            self.policy.update(rollouts, sigma_rewards)\n",
    "\n",
    "            # Only record video during evaluation, every n steps\n",
    "            if step % self.hp.record_every == 0:\n",
    "                self.record_video = True\n",
    "            # Play an episode with the new weights and print the score\n",
    "            reward_evaluation = self.explore()\n",
    "            print('Step: ', step, 'Reward: ', reward_evaluation)\n",
    "            self.record_video = False"
   ]
  },
  {
   "cell_type": "code",
   "execution_count": 23,
   "metadata": {},
   "outputs": [
    {
     "data": {
      "text/plain": [
       "<AsyncResult: use_cloudpickle>"
      ]
     },
     "execution_count": 23,
     "metadata": {},
     "output_type": "execute_result"
    }
   ],
   "source": [
    "# This is an attempt to get the trainer to work with ipyparallel\n",
    "# It did not work because ipyparallel will not pickle context objects\n",
    "import ipyparallel as ipp\n",
    "c = ipp.Client()\n",
    "c[:].use_cloudpickle()\n",
    "\n",
    "class ARSAgent_Parallel():\n",
    "    def __init__(self,\n",
    "                 hp=None,\n",
    "                 num_envs=4,\n",
    "                 base_model=True,\n",
    "                 policy=None,\n",
    "                 weights_dir='ars_weights',\n",
    "                 initial_train=False\n",
    "                ):\n",
    "\n",
    "        self.hp = hp or HP()\n",
    "        np.random.seed(self.hp.seed)\n",
    "        self.envs = [CarEnv(control_type='continuous') for i in range(num_envs)]\n",
    "        self.env = self.envs[0]\n",
    "        self.output_size = self.env.action_space.shape[0]\n",
    "        self.record_video = False\n",
    "        self.history = {'step': [],\n",
    "                        'score': [],\n",
    "                        'theta': []}\n",
    "        self.generate_theta = False\n",
    "        self.historical_steps = 0\n",
    "        \n",
    "        if base_model is None:\n",
    "            self.input_size = self.env.front_camera.shape\n",
    "        else:\n",
    "            base_model = VGG19(weights='imagenet', \n",
    "                               include_top=False, \n",
    "                               input_shape=(self.env.img_height, self.env.img_width,3))\n",
    "            input_size = 1\n",
    "            for dim in base_model.output_shape:\n",
    "                if dim is not None:\n",
    "                    input_size *= dim\n",
    "            self.input_size = input_size\n",
    "            \n",
    "        if policy is None and initial_train == True:\n",
    "            self.generate_theta = True\n",
    "        self.base_model = base_model\n",
    "        self.policy = policy or Policy(self.input_size, self.output_size, self.hp)\n",
    "        self.weights_dir = mkdir('', weights_dir)\n",
    "        \n",
    "    # Explore the policy on one specific direction and over one episode\n",
    "    def explore(self, direction=None, delta=None):\n",
    "        state = self.env.reset()\n",
    "        done = False\n",
    "        sum_rewards = 0.0\n",
    "        while not done:\n",
    "            state = self.env.front_camera.reshape(1, 224, 224, 3)/255.\n",
    "            if self.base_model:\n",
    "                state = self.base_model.predict(state).flatten()\n",
    "            else:\n",
    "                state = state.flatten()\n",
    "            action = self.policy.evaluate(state, delta, direction)\n",
    "            state, reward, done, _ = self.env.step(action)\n",
    "            reward = max(min(reward, 1), -1)\n",
    "            sum_rewards += reward\n",
    "        return sum_rewards\n",
    "\n",
    "    # Explore the policy on one specific direction and over one episode\n",
    "    def explore_directions(self, env):\n",
    "        delta = np.random.randn(*self.policy.theta.shape)\n",
    "        sum_positive_rewards = 0.0\n",
    "        sum_negative_rewards = 0.0\n",
    "        \n",
    "        # Get positive direction for delta\n",
    "        state = env.reset()\n",
    "        done = False\n",
    "        while not done:\n",
    "            state = self.env.front_camera.reshape(1, 224, 224, 3)/255.\n",
    "            if self.base_model:\n",
    "                state = self.base_model.predict(state).flatten()\n",
    "            else:\n",
    "                state = state.flatten()\n",
    "            action = self.policy.evaluate(state, delta, '+')\n",
    "            state, reward, done, _ = self.env.step(action)\n",
    "            #reward = max(min(reward, 1), -1)\n",
    "            sum_positive_rewards += reward\n",
    "            \n",
    "        # Get negative direction for delta\n",
    "        state = env.reset()\n",
    "        done = False\n",
    "        while not done:\n",
    "            state = self.env.front_camera.reshape(1, 224, 224, 3)/255.\n",
    "            if self.base_model:\n",
    "                state = self.base_model.predict(state).flatten()\n",
    "            else:\n",
    "                state = state.flatten()\n",
    "            action = self.policy.evaluate(state, delta, '-')\n",
    "            state, reward, done, _ = self.env.step(action)\n",
    "            reward = max(min(reward, 1), -1)\n",
    "            sum_negative_rewards += reward\n",
    "            \n",
    "        return delta, sum_positive_rewards, sum_negative_rewards\n",
    "\n",
    "    def train(self):\n",
    "        if self.generate_theta:\n",
    "            print('Training initial weights...')\n",
    "            pred_model = keras.models.Sequential()\n",
    "            base_model = VGG19(weights='imagenet', \n",
    "                               include_top=False, \n",
    "                               input_shape=(224, 224,3))\n",
    "            for layer in base_model.layers:\n",
    "                layer.trainable = False\n",
    "            pred_model.add(base_model)\n",
    "            pred_model.add(keras.layers.Flatten())\n",
    "            pred_model.add(Dense(3, input_dim=base_model.output_shape, activation='linear'))\n",
    "            pred_model.compile(optimizer='adam', loss='mse', metrics=['accuracy'])\n",
    "            X = train_imgs.reshape(50, 224, 224, 3)/255.\n",
    "            y = np.array([1., 0., 0.])\n",
    "            y = np.tile(y, (50, 1))\n",
    "            pred_model.fit(X, y, epochs=5, workers=2)\n",
    "            self.policy.theta = pred_model.get_weights()[-2].T\n",
    "        \n",
    "        for step in range(self.hp.nb_steps):\n",
    "            print('Performing step {}. ({}/{})'.format(self.historical_steps,\n",
    "                                                       step + 1,\n",
    "                                                       self.hp.nb_steps\n",
    "                                                      ))\n",
    "            self.historical_steps += 1\n",
    "            # Only record video during evaluation, every n steps\n",
    "            if step % self.hp.record_every == 0:\n",
    "                for env in self.envs:\n",
    "                    env.show_cam = True\n",
    "            # initialize the random noise deltas and the positive/negative rewards\n",
    "            deltas = [] #self.policy.sample_deltas()\n",
    "            positive_rewards = [] #[0] * self.hp.num_deltas\n",
    "            negative_rewards = [] #[0] * self.hp.num_deltas\n",
    "\n",
    "            # play an episode each with positive deltas and negative deltas, collect rewards\n",
    "            for i in range(self.hp.num_deltas // 4):\n",
    "                responses = c[:].map_sync(self.explore_directions, self.envs)\n",
    "                for res in positive_responses:\n",
    "                    deltas.append(res[0])\n",
    "                    positive_rewards.append(res[1])\n",
    "                    negative_rewards.append(res[3])\n",
    "                \n",
    "            # Compute the standard deviation of all rewards\n",
    "            sigma_rewards = np.array(positive_rewards + negative_rewards).std()\n",
    "\n",
    "            # Sort the rollouts by the max(r_pos, r_neg) and select the deltas with best rewards\n",
    "            scores = {k:max(r_pos, r_neg) for k,(r_pos,r_neg) in enumerate(zip(positive_rewards, negative_rewards))}\n",
    "            order = sorted(scores.keys(), key = lambda x:scores[x], reverse = True)[:self.hp.num_best_deltas]\n",
    "            rollouts = [(positive_rewards[k], negative_rewards[k], deltas[k]) for k in order]\n",
    "\n",
    "            # Update the policy\n",
    "            self.policy.update(rollouts, sigma_rewards)\n",
    "\n",
    "            if step % self.hp.record_every == 0:\n",
    "                # Play an episode with the new weights and print the score\n",
    "                reward_evaluation = self.run_episode()\n",
    "                print('Step:', step + 1, 'Reward:', reward_evaluation)\n",
    "                self.history['step'].append(self.historical_steps)\n",
    "                self.history['score'].append(reward_evaluation)\n",
    "                self.history['theta'].append(self.policy.theta.copy())\n",
    "                \n",
    "            self.env.show_cam = False\n",
    "        \n",
    "        save_file = mkdir(self.weights_dir, str(datetime.date.today()))\n",
    "        np.savetxt(save_file+'/{}_episodes.csv'.format(self.historical_steps), \n",
    "                   self.policy.theta,\n",
    "                   delimiter=','\n",
    "                  )            \n",
    "            \n",
    "    def run_episode(self):\n",
    "        return self.explore()\n",
    "            \n",
    "    def clean_up(self):\n",
    "        for actor in self.env.actor_list:\n",
    "            actor.destroy()"
   ]
  },
  {
   "cell_type": "code",
   "execution_count": 36,
   "metadata": {},
   "outputs": [],
   "source": [
    "hp_test = HP(nb_steps=50, \n",
    "             noise=0.05, \n",
    "             learning_rate=0.02, \n",
    "             num_deltas=32, \n",
    "             num_best_deltas=16,\n",
    "             record_every=1\n",
    "            )"
   ]
  },
  {
   "cell_type": "code",
   "execution_count": 37,
   "metadata": {},
   "outputs": [
    {
     "data": {
      "text/plain": [
       "26"
      ]
     },
     "execution_count": 37,
     "metadata": {},
     "output_type": "execute_result"
    }
   ],
   "source": [
    "len(ars_agent.history['theta'])"
   ]
  },
  {
   "cell_type": "code",
   "execution_count": 38,
   "metadata": {},
   "outputs": [],
   "source": [
    "ars_agent_parallel = ARSAgent_Parallel(hp=hp_test)"
   ]
  },
  {
   "cell_type": "code",
   "execution_count": 39,
   "metadata": {},
   "outputs": [],
   "source": [
    "weights = ars_agent.history['theta'][-1]"
   ]
  },
  {
   "cell_type": "code",
   "execution_count": 40,
   "metadata": {},
   "outputs": [],
   "source": [
    "ars_agent_parallel.policy.theta = weights"
   ]
  },
  {
   "cell_type": "code",
   "execution_count": null,
   "metadata": {
    "scrolled": true
   },
   "outputs": [],
   "source": [
    "ars_agent_parallel.train()"
   ]
  },
  {
   "cell_type": "code",
   "execution_count": 42,
   "metadata": {},
   "outputs": [],
   "source": [
    "ars_agent_parallel.clean_up()"
   ]
  },
  {
   "cell_type": "markdown",
   "metadata": {},
   "source": [
    "I'd like to try training in a variety of circumstances and with various combinations of inputs. The semantic segmentation cam may give great performance with camera-based training. There are also radar, lidar, and other sensors that can be added into the inputs. First, let's just set up a basic RGB cam and try to see what that can do. I am thinking that putting the VGG19 with imagenet weights in front of the ARS agent may help it find edges, so we need to compare both of these methods over a given number of episodes. Sentdex's scoring system is not badly designed, and it may be enlightening to know how my scores compare."
   ]
  }
 ],
 "metadata": {
  "kernelspec": {
   "display_name": "Python 3",
   "language": "python",
   "name": "python3"
  },
  "language_info": {
   "codemirror_mode": {
    "name": "ipython",
    "version": 3
   },
   "file_extension": ".py",
   "mimetype": "text/x-python",
   "name": "python",
   "nbconvert_exporter": "python",
   "pygments_lexer": "ipython3",
   "version": "3.7.4"
  }
 },
 "nbformat": 4,
 "nbformat_minor": 2
}
